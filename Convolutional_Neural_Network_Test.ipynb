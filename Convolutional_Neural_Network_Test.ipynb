{
  "nbformat": 4,
  "nbformat_minor": 0,
  "metadata": {
    "colab": {
      "name": "Convolutional Neural Network Test.ipynb",
      "provenance": [],
      "collapsed_sections": [],
      "include_colab_link": true
    },
    "kernelspec": {
      "name": "python3",
      "display_name": "Python 3"
    }
  },
  "cells": [
    {
      "cell_type": "markdown",
      "metadata": {
        "id": "view-in-github",
        "colab_type": "text"
      },
      "source": [
        "<a href=\"https://colab.research.google.com/github/TanakitInt/CNN-Test/blob/master/Convolutional_Neural_Network_Test.ipynb\" target=\"_parent\"><img src=\"https://colab.research.google.com/assets/colab-badge.svg\" alt=\"Open In Colab\"/></a>"
      ]
    },
    {
      "cell_type": "code",
      "metadata": {
        "id": "MfRTCixtvWi5",
        "colab_type": "code",
        "colab": {
          "base_uri": "https://localhost:8080/",
          "height": 80
        },
        "outputId": "55548f08-193f-40be-9a90-1229e089b9ec"
      },
      "source": [
        "import numpy as np\n",
        "import matplotlib.pyplot as plt\n",
        "%matplotlib inline\n",
        "from __future__ import print_function\n",
        "import keras\n",
        "from keras.models import Sequential\n",
        "from keras.utils import to_categorical\n",
        "from keras.layers import Dense, Conv2D, MaxPooling2D, Dropout, Flatten\n"
      ],
      "execution_count": 1,
      "outputs": [
        {
          "output_type": "stream",
          "text": [
            "Using TensorFlow backend.\n"
          ],
          "name": "stderr"
        },
        {
          "output_type": "display_data",
          "data": {
            "text/html": [
              "<p style=\"color: red;\">\n",
              "The default version of TensorFlow in Colab will soon switch to TensorFlow 2.x.<br>\n",
              "We recommend you <a href=\"https://www.tensorflow.org/guide/migrate\" target=\"_blank\">upgrade</a> now \n",
              "or ensure your notebook will continue to use TensorFlow 1.x via the <code>%tensorflow_version 1.x</code> magic:\n",
              "<a href=\"https://colab.research.google.com/notebooks/tensorflow_version.ipynb\" target=\"_blank\">more info</a>.</p>\n"
            ],
            "text/plain": [
              "<IPython.core.display.HTML object>"
            ]
          },
          "metadata": {
            "tags": []
          }
        }
      ]
    },
    {
      "cell_type": "code",
      "metadata": {
        "id": "yQzaB3qNzf_i",
        "colab_type": "code",
        "colab": {
          "base_uri": "https://localhost:8080/",
          "height": 51
        },
        "outputId": "6a8e24ed-016c-4739-faec-3001b5f6ad04"
      },
      "source": [
        "from keras.datasets import cifar10\n",
        "(train_images, train_labels), (test_images, test_labels) = cifar10.load_data()"
      ],
      "execution_count": 2,
      "outputs": [
        {
          "output_type": "stream",
          "text": [
            "Downloading data from https://www.cs.toronto.edu/~kriz/cifar-10-python.tar.gz\n",
            "170500096/170498071 [==============================] - 11s 0us/step\n"
          ],
          "name": "stdout"
        }
      ]
    },
    {
      "cell_type": "code",
      "metadata": {
        "id": "u98W7ml1zw7H",
        "colab_type": "code",
        "colab": {
          "base_uri": "https://localhost:8080/",
          "height": 51
        },
        "outputId": "9428e259-e31d-4932-9747-ec0427a18044"
      },
      "source": [
        "print('Training data shape : ', train_images.shape, train_labels.shape)\n",
        "\n",
        "print('Testing data shape : ', test_images.shape, test_labels.shape)"
      ],
      "execution_count": 3,
      "outputs": [
        {
          "output_type": "stream",
          "text": [
            "Training data shape :  (50000, 32, 32, 3) (50000, 1)\n",
            "Testing data shape :  (10000, 32, 32, 3) (10000, 1)\n"
          ],
          "name": "stdout"
        }
      ]
    },
    {
      "cell_type": "code",
      "metadata": {
        "id": "DL5zliA31SUP",
        "colab_type": "code",
        "colab": {
          "base_uri": "https://localhost:8080/",
          "height": 51
        },
        "outputId": "1d41daac-e150-4afd-c5ed-d0e02d07a8bd"
      },
      "source": [
        "# Find the unique numbers from the train labels\n",
        "classes = np.unique(train_labels)\n",
        "nClasses = len(classes)\n",
        "print('Total number of outputs : ', nClasses)\n",
        "print('Output classes : ', classes)\n"
      ],
      "execution_count": 4,
      "outputs": [
        {
          "output_type": "stream",
          "text": [
            "Total number of outputs :  10\n",
            "Output classes :  [0 1 2 3 4 5 6 7 8 9]\n"
          ],
          "name": "stdout"
        }
      ]
    },
    {
      "cell_type": "code",
      "metadata": {
        "id": "ZusnKhGT-WqS",
        "colab_type": "code",
        "colab": {
          "base_uri": "https://localhost:8080/",
          "height": 51
        },
        "outputId": "22a4665b-4c2d-4a6d-e8b5-e2e1856674c7"
      },
      "source": [
        "plt.figure(figsize=[4,2])\n"
      ],
      "execution_count": 6,
      "outputs": [
        {
          "output_type": "execute_result",
          "data": {
            "text/plain": [
              "<Figure size 288x144 with 0 Axes>"
            ]
          },
          "metadata": {
            "tags": []
          },
          "execution_count": 6
        },
        {
          "output_type": "display_data",
          "data": {
            "text/plain": [
              "<Figure size 288x144 with 0 Axes>"
            ]
          },
          "metadata": {
            "tags": []
          }
        }
      ]
    },
    {
      "cell_type": "code",
      "metadata": {
        "id": "A8PlGN8o-_5G",
        "colab_type": "code",
        "colab": {
          "base_uri": "https://localhost:8080/",
          "height": 233
        },
        "outputId": "ed3b2a1d-1b66-46e0-cddd-dd4cded95efd"
      },
      "source": [
        "# Display the first image in training data\n",
        "plt.subplot(121)\n",
        "plt.imshow(train_images[0,:,:], cmap='gray')\n",
        "plt.title(\"Ground Truth : {}\".format(train_labels[0]))"
      ],
      "execution_count": 11,
      "outputs": [
        {
          "output_type": "execute_result",
          "data": {
            "text/plain": [
              "Text(0.5, 1.0, 'Ground Truth : [6]')"
            ]
          },
          "metadata": {
            "tags": []
          },
          "execution_count": 11
        },
        {
          "output_type": "display_data",
          "data": {
            "image/png": "[encoded data removed]",
            "text/plain": [
              "<Figure size 432x288 with 1 Axes>"
            ]
          },
          "metadata": {
            "tags": []
          }
        }
      ]
    },
    {
      "cell_type": "code",
      "metadata": {
        "id": "ADpE1_N8_Sxz",
        "colab_type": "code",
        "colab": {
          "base_uri": "https://localhost:8080/",
          "height": 233
        },
        "outputId": "59004138-0fe8-4884-ecea-fd4724fc6671"
      },
      "source": [
        "# Display the first image in testing data\n",
        "plt.subplot(122)\n",
        "plt.imshow(test_images[0,:,:], cmap='gray')\n",
        "plt.title(\"Ground Truth : {}\".format(test_labels[0]))"
      ],
      "execution_count": 12,
      "outputs": [
        {
          "output_type": "execute_result",
          "data": {
            "text/plain": [
              "Text(0.5, 1.0, 'Ground Truth : [3]')"
            ]
          },
          "metadata": {
            "tags": []
          },
          "execution_count": 12
        },
        {
          "output_type": "display_data",
          "data": {
            "image/png": "[encoded data removed]",
            "text/plain": [
              "<Figure size 432x288 with 1 Axes>"
            ]
          },
          "metadata": {
            "tags": []
          }
        }
      ]
    },
    {
      "cell_type": "code",
      "metadata": {
        "id": "I9XWOHt8_Z64",
        "colab_type": "code",
        "colab": {}
      },
      "source": [
        "nRows,nCols,nDims = train_images.shape[1:]\n",
        "train_data = train_images.reshape(train_images.shape[0], nRows, nCols, nDims)\n",
        "test_data = test_images.reshape(test_images.shape[0], nRows, nCols, nDims)\n",
        "input_shape = (nRows, nCols, nDims)"
      ],
      "execution_count": 0,
      "outputs": []
    },
    {
      "cell_type": "code",
      "metadata": {
        "id": "_Tz2urZw_kgz",
        "colab_type": "code",
        "colab": {}
      },
      "source": [
        "train_data = train_data.astype('float32')\n",
        "test_data = test_data.astype('float32')"
      ],
      "execution_count": 0,
      "outputs": []
    },
    {
      "cell_type": "code",
      "metadata": {
        "id": "WsHLeM5G_nx9",
        "colab_type": "code",
        "colab": {}
      },
      "source": [
        "train_data /= 255\n",
        "test_data /= 255"
      ],
      "execution_count": 0,
      "outputs": []
    },
    {
      "cell_type": "code",
      "metadata": {
        "id": "KZFbtDwR_q0s",
        "colab_type": "code",
        "colab": {}
      },
      "source": [
        "train_labels_one_hot = to_categorical(train_labels)\n",
        "test_labels_one_hot = to_categorical(test_labels)"
      ],
      "execution_count": 0,
      "outputs": []
    },
    {
      "cell_type": "code",
      "metadata": {
        "id": "WMfsAMLa_wxz",
        "colab_type": "code",
        "colab": {
          "base_uri": "https://localhost:8080/",
          "height": 51
        },
        "outputId": "2a51b61a-57ad-41bd-e8e6-50af6ef7739c"
      },
      "source": [
        "print('Original label 0 : ', train_labels[0])\n",
        "print('After conversion to categorical ( one-hot ) : ', train_labels_one_hot[0])"
      ],
      "execution_count": 17,
      "outputs": [
        {
          "output_type": "stream",
          "text": [
            "Original label 0 :  [6]\n",
            "After conversion to categorical ( one-hot ) :  [0. 0. 0. 0. 0. 0. 1. 0. 0. 0.]\n"
          ],
          "name": "stdout"
        }
      ]
    },
    {
      "cell_type": "code",
      "metadata": {
        "id": "NGTQLYrvCZf-",
        "colab_type": "code",
        "colab": {}
      },
      "source": [
        "def createModel():\n",
        "    model = Sequential()\n",
        "    # The first two layers with 32 filters of window size 3x3\n",
        "    model.add(Conv2D(32, (3, 3), padding='same', activation='relu', input_shape=input_shape))\n",
        "    model.add(Conv2D(32, (3, 3), activation='relu'))\n",
        "    model.add(MaxPooling2D(pool_size=(2, 2)))\n",
        "    model.add(Dropout(0.25))\n",
        "\n",
        "    model.add(Conv2D(64, (3, 3), padding='same', activation='relu'))\n",
        "    model.add(Conv2D(64, (3, 3), activation='relu'))\n",
        "    model.add(MaxPooling2D(pool_size=(2, 2)))\n",
        "    model.add(Dropout(0.25))\n",
        "\n",
        "    model.add(Conv2D(64, (3, 3), padding='same', activation='relu'))\n",
        "    model.add(Conv2D(64, (3, 3), activation='relu'))\n",
        "    model.add(MaxPooling2D(pool_size=(2, 2)))\n",
        "    model.add(Dropout(0.25))\n",
        "\n",
        "    model.add(Flatten())\n",
        "    model.add(Dense(512, activation='relu'))\n",
        "    model.add(Dropout(0.5))\n",
        "    model.add(Dense(nClasses, activation='softmax'))\n",
        "    \n",
        "    return model"
      ],
      "execution_count": 0,
      "outputs": []
    },
    {
      "cell_type": "code",
      "metadata": {
        "id": "e4p1d8niCdzU",
        "colab_type": "code",
        "colab": {
          "base_uri": "https://localhost:8080/",
          "height": 306
        },
        "outputId": "b94b9f8c-16a1-4824-8ce3-91a3afa1cdb6"
      },
      "source": [
        "\n",
        "model1 = createModel()\n",
        "batch_size = 256\n",
        "epochs = 50\n",
        "model1.compile(optimizer='rmsprop', loss='categorical_crossentropy', metrics=['accuracy'])\n"
      ],
      "execution_count": 20,
      "outputs": [
        {
          "output_type": "stream",
          "text": [
            "WARNING:tensorflow:From /usr/local/lib/python3.6/dist-packages/keras/backend/tensorflow_backend.py:66: The name tf.get_default_graph is deprecated. Please use tf.compat.v1.get_default_graph instead.\n",
            "\n",
            "WARNING:tensorflow:From /usr/local/lib/python3.6/dist-packages/keras/backend/tensorflow_backend.py:541: The name tf.placeholder is deprecated. Please use tf.compat.v1.placeholder instead.\n",
            "\n",
            "WARNING:tensorflow:From /usr/local/lib/python3.6/dist-packages/keras/backend/tensorflow_backend.py:4432: The name tf.random_uniform is deprecated. Please use tf.random.uniform instead.\n",
            "\n",
            "WARNING:tensorflow:From /usr/local/lib/python3.6/dist-packages/keras/backend/tensorflow_backend.py:4267: The name tf.nn.max_pool is deprecated. Please use tf.nn.max_pool2d instead.\n",
            "\n",
            "WARNING:tensorflow:From /usr/local/lib/python3.6/dist-packages/keras/backend/tensorflow_backend.py:148: The name tf.placeholder_with_default is deprecated. Please use tf.compat.v1.placeholder_with_default instead.\n",
            "\n",
            "WARNING:tensorflow:From /usr/local/lib/python3.6/dist-packages/keras/backend/tensorflow_backend.py:3733: calling dropout (from tensorflow.python.ops.nn_ops) with keep_prob is deprecated and will be removed in a future version.\n",
            "Instructions for updating:\n",
            "Please use `rate` instead of `keep_prob`. Rate should be set to `rate = 1 - keep_prob`.\n",
            "WARNING:tensorflow:From /usr/local/lib/python3.6/dist-packages/keras/optimizers.py:793: The name tf.train.Optimizer is deprecated. Please use tf.compat.v1.train.Optimizer instead.\n",
            "\n",
            "WARNING:tensorflow:From /usr/local/lib/python3.6/dist-packages/keras/backend/tensorflow_backend.py:3576: The name tf.log is deprecated. Please use tf.math.log instead.\n",
            "\n"
          ],
          "name": "stdout"
        }
      ]
    },
    {
      "cell_type": "code",
      "metadata": {
        "id": "HAtkKQMMCisM",
        "colab_type": "code",
        "colab": {
          "base_uri": "https://localhost:8080/",
          "height": 697
        },
        "outputId": "13bb0334-2791-494e-be09-7ed871758ca0"
      },
      "source": [
        "model1.summary()"
      ],
      "execution_count": 21,
      "outputs": [
        {
          "output_type": "stream",
          "text": [
            "Model: \"sequential_1\"\n",
            "_________________________________________________________________\n",
            "Layer (type)                 Output Shape              Param #   \n",
            "=================================================================\n",
            "conv2d_1 (Conv2D)            (None, 32, 32, 32)        896       \n",
            "_________________________________________________________________\n",
            "conv2d_2 (Conv2D)            (None, 30, 30, 32)        9248      \n",
            "_________________________________________________________________\n",
            "max_pooling2d_1 (MaxPooling2 (None, 15, 15, 32)        0         \n",
            "_________________________________________________________________\n",
            "dropout_1 (Dropout)          (None, 15, 15, 32)        0         \n",
            "_________________________________________________________________\n",
            "conv2d_3 (Conv2D)            (None, 15, 15, 64)        18496     \n",
            "_________________________________________________________________\n",
            "conv2d_4 (Conv2D)            (None, 13, 13, 64)        36928     \n",
            "_________________________________________________________________\n",
            "max_pooling2d_2 (MaxPooling2 (None, 6, 6, 64)          0         \n",
            "_________________________________________________________________\n",
            "dropout_2 (Dropout)          (None, 6, 6, 64)          0         \n",
            "_________________________________________________________________\n",
            "conv2d_5 (Conv2D)            (None, 6, 6, 64)          36928     \n",
            "_________________________________________________________________\n",
            "conv2d_6 (Conv2D)            (None, 4, 4, 64)          36928     \n",
            "_________________________________________________________________\n",
            "max_pooling2d_3 (MaxPooling2 (None, 2, 2, 64)          0         \n",
            "_________________________________________________________________\n",
            "dropout_3 (Dropout)          (None, 2, 2, 64)          0         \n",
            "_________________________________________________________________\n",
            "flatten_1 (Flatten)          (None, 256)               0         \n",
            "_________________________________________________________________\n",
            "dense_1 (Dense)              (None, 512)               131584    \n",
            "_________________________________________________________________\n",
            "dropout_4 (Dropout)          (None, 512)               0         \n",
            "_________________________________________________________________\n",
            "dense_2 (Dense)              (None, 10)                5130      \n",
            "=================================================================\n",
            "Total params: 276,138\n",
            "Trainable params: 276,138\n",
            "Non-trainable params: 0\n",
            "_________________________________________________________________\n"
          ],
          "name": "stdout"
        }
      ]
    },
    {
      "cell_type": "code",
      "metadata": {
        "id": "Q47-hqhTCnTF",
        "colab_type": "code",
        "colab": {
          "base_uri": "https://localhost:8080/",
          "height": 1000
        },
        "outputId": "885526fc-d1a1-4208-951d-4bcc2058608d"
      },
      "source": [
        "history = model1.fit(train_data, train_labels_one_hot, batch_size=batch_size, epochs=epochs, verbose=1, \n",
        "                   validation_data=(test_data, test_labels_one_hot))\n",
        "model1.evaluate(test_data, test_labels_one_hot)"
      ],
      "execution_count": 22,
      "outputs": [
        {
          "output_type": "stream",
          "text": [
            "WARNING:tensorflow:From /usr/local/lib/python3.6/dist-packages/tensorflow_core/python/ops/math_grad.py:1424: where (from tensorflow.python.ops.array_ops) is deprecated and will be removed in a future version.\n",
            "Instructions for updating:\n",
            "Use tf.where in 2.0, which has the same broadcast rule as np.where\n",
            "WARNING:tensorflow:From /usr/local/lib/python3.6/dist-packages/keras/backend/tensorflow_backend.py:1033: The name tf.assign_add is deprecated. Please use tf.compat.v1.assign_add instead.\n",
            "\n",
            "WARNING:tensorflow:From /usr/local/lib/python3.6/dist-packages/keras/backend/tensorflow_backend.py:1020: The name tf.assign is deprecated. Please use tf.compat.v1.assign instead.\n",
            "\n",
            "WARNING:tensorflow:From /usr/local/lib/python3.6/dist-packages/keras/backend/tensorflow_backend.py:3005: The name tf.Session is deprecated. Please use tf.compat.v1.Session instead.\n",
            "\n",
            "Train on 50000 samples, validate on 10000 samples\n",
            "Epoch 1/50\n",
            "WARNING:tensorflow:From /usr/local/lib/python3.6/dist-packages/keras/backend/tensorflow_backend.py:190: The name tf.get_default_session is deprecated. Please use tf.compat.v1.get_default_session instead.\n",
            "\n",
            "WARNING:tensorflow:From /usr/local/lib/python3.6/dist-packages/keras/backend/tensorflow_backend.py:197: The name tf.ConfigProto is deprecated. Please use tf.compat.v1.ConfigProto instead.\n",
            "\n",
            "WARNING:tensorflow:From /usr/local/lib/python3.6/dist-packages/keras/backend/tensorflow_backend.py:207: The name tf.global_variables is deprecated. Please use tf.compat.v1.global_variables instead.\n",
            "\n",
            "WARNING:tensorflow:From /usr/local/lib/python3.6/dist-packages/keras/backend/tensorflow_backend.py:216: The name tf.is_variable_initialized is deprecated. Please use tf.compat.v1.is_variable_initialized instead.\n",
            "\n",
            "WARNING:tensorflow:From /usr/local/lib/python3.6/dist-packages/keras/backend/tensorflow_backend.py:223: The name tf.variables_initializer is deprecated. Please use tf.compat.v1.variables_initializer instead.\n",
            "\n",
            "50000/50000 [==============================] - 238s 5ms/step - loss: 2.0982 - acc: 0.2295 - val_loss: 1.8125 - val_acc: 0.3392\n",
            "Epoch 2/50\n",
            "50000/50000 [==============================] - 237s 5ms/step - loss: 1.7679 - acc: 0.3684 - val_loss: 1.5295 - val_acc: 0.4453\n",
            "Epoch 3/50\n",
            "50000/50000 [==============================] - 236s 5ms/step - loss: 1.5729 - acc: 0.4374 - val_loss: 1.4173 - val_acc: 0.4803\n",
            "Epoch 4/50\n",
            "50000/50000 [==============================] - 235s 5ms/step - loss: 1.4372 - acc: 0.4828 - val_loss: 1.3571 - val_acc: 0.5124\n",
            "Epoch 5/50\n",
            "50000/50000 [==============================] - 236s 5ms/step - loss: 1.3317 - acc: 0.5284 - val_loss: 1.3150 - val_acc: 0.5224\n",
            "Epoch 6/50\n",
            "50000/50000 [==============================] - 235s 5ms/step - loss: 1.2401 - acc: 0.5579 - val_loss: 1.2050 - val_acc: 0.5755\n",
            "Epoch 7/50\n",
            "50000/50000 [==============================] - 236s 5ms/step - loss: 1.1699 - acc: 0.5874 - val_loss: 1.1230 - val_acc: 0.5985\n",
            "Epoch 8/50\n",
            "50000/50000 [==============================] - 236s 5ms/step - loss: 1.1097 - acc: 0.6081 - val_loss: 1.1884 - val_acc: 0.5975\n",
            "Epoch 9/50\n",
            "50000/50000 [==============================] - 235s 5ms/step - loss: 1.0565 - acc: 0.6302 - val_loss: 1.0703 - val_acc: 0.6199\n",
            "Epoch 10/50\n",
            "50000/50000 [==============================] - 235s 5ms/step - loss: 1.0140 - acc: 0.6435 - val_loss: 0.9364 - val_acc: 0.6743\n",
            "Epoch 11/50\n",
            "50000/50000 [==============================] - 235s 5ms/step - loss: 0.9643 - acc: 0.6610 - val_loss: 0.9120 - val_acc: 0.6766\n",
            "Epoch 12/50\n",
            "50000/50000 [==============================] - 236s 5ms/step - loss: 0.9345 - acc: 0.6713 - val_loss: 0.8658 - val_acc: 0.6975\n",
            "Epoch 13/50\n",
            "50000/50000 [==============================] - 236s 5ms/step - loss: 0.8963 - acc: 0.6874 - val_loss: 0.9865 - val_acc: 0.6569\n",
            "Epoch 14/50\n",
            "50000/50000 [==============================] - 235s 5ms/step - loss: 0.8621 - acc: 0.6960 - val_loss: 0.8615 - val_acc: 0.7005\n",
            "Epoch 15/50\n",
            "50000/50000 [==============================] - 234s 5ms/step - loss: 0.8422 - acc: 0.7083 - val_loss: 0.8529 - val_acc: 0.7041\n",
            "Epoch 16/50\n",
            "50000/50000 [==============================] - 235s 5ms/step - loss: 0.8121 - acc: 0.7166 - val_loss: 0.8363 - val_acc: 0.7121\n",
            "Epoch 17/50\n",
            "50000/50000 [==============================] - 236s 5ms/step - loss: 0.7877 - acc: 0.7265 - val_loss: 0.8102 - val_acc: 0.7286\n",
            "Epoch 18/50\n",
            "50000/50000 [==============================] - 236s 5ms/step - loss: 0.7708 - acc: 0.7332 - val_loss: 0.7710 - val_acc: 0.7357\n",
            "Epoch 19/50\n",
            "50000/50000 [==============================] - 235s 5ms/step - loss: 0.7457 - acc: 0.7417 - val_loss: 0.7975 - val_acc: 0.7250\n",
            "Epoch 20/50\n",
            "50000/50000 [==============================] - 235s 5ms/step - loss: 0.7261 - acc: 0.7459 - val_loss: 0.7370 - val_acc: 0.7427\n",
            "Epoch 21/50\n",
            "50000/50000 [==============================] - 235s 5ms/step - loss: 0.7119 - acc: 0.7541 - val_loss: 0.7032 - val_acc: 0.7582\n",
            "Epoch 22/50\n",
            "50000/50000 [==============================] - 235s 5ms/step - loss: 0.7046 - acc: 0.7547 - val_loss: 0.7838 - val_acc: 0.7361\n",
            "Epoch 23/50\n",
            "50000/50000 [==============================] - 234s 5ms/step - loss: 0.6861 - acc: 0.7623 - val_loss: 0.6954 - val_acc: 0.7655\n",
            "Epoch 24/50\n",
            "50000/50000 [==============================] - 233s 5ms/step - loss: 0.6717 - acc: 0.7664 - val_loss: 0.7446 - val_acc: 0.7468\n",
            "Epoch 25/50\n",
            "50000/50000 [==============================] - 235s 5ms/step - loss: 0.6536 - acc: 0.7730 - val_loss: 0.6849 - val_acc: 0.7702\n",
            "Epoch 26/50\n",
            "50000/50000 [==============================] - 235s 5ms/step - loss: 0.6519 - acc: 0.7750 - val_loss: 0.7679 - val_acc: 0.7428\n",
            "Epoch 27/50\n",
            "50000/50000 [==============================] - 236s 5ms/step - loss: 0.6385 - acc: 0.7789 - val_loss: 0.9531 - val_acc: 0.7021\n",
            "Epoch 28/50\n",
            "50000/50000 [==============================] - 235s 5ms/step - loss: 0.6281 - acc: 0.7858 - val_loss: 0.6654 - val_acc: 0.7790\n",
            "Epoch 29/50\n",
            "50000/50000 [==============================] - 236s 5ms/step - loss: 0.6157 - acc: 0.7880 - val_loss: 0.7911 - val_acc: 0.7422\n",
            "Epoch 30/50\n",
            "50000/50000 [==============================] - 236s 5ms/step - loss: 0.6115 - acc: 0.7898 - val_loss: 0.7151 - val_acc: 0.7687\n",
            "Epoch 31/50\n",
            "50000/50000 [==============================] - 236s 5ms/step - loss: 0.6103 - acc: 0.7878 - val_loss: 0.8164 - val_acc: 0.7473\n",
            "Epoch 32/50\n",
            "50000/50000 [==============================] - 235s 5ms/step - loss: 0.5969 - acc: 0.7951 - val_loss: 0.8693 - val_acc: 0.7470\n",
            "Epoch 33/50\n",
            "50000/50000 [==============================] - 237s 5ms/step - loss: 0.5969 - acc: 0.7938 - val_loss: 0.6327 - val_acc: 0.7919\n",
            "Epoch 34/50\n",
            "50000/50000 [==============================] - 235s 5ms/step - loss: 0.5899 - acc: 0.7962 - val_loss: 0.7630 - val_acc: 0.7575\n",
            "Epoch 35/50\n",
            "50000/50000 [==============================] - 235s 5ms/step - loss: 0.5855 - acc: 0.7992 - val_loss: 0.7801 - val_acc: 0.7540\n",
            "Epoch 36/50\n",
            "50000/50000 [==============================] - 235s 5ms/step - loss: 0.5764 - acc: 0.8015 - val_loss: 0.8010 - val_acc: 0.7392\n",
            "Epoch 37/50\n",
            "50000/50000 [==============================] - 236s 5ms/step - loss: 0.5763 - acc: 0.8037 - val_loss: 0.6496 - val_acc: 0.7816\n",
            "Epoch 38/50\n",
            "50000/50000 [==============================] - 235s 5ms/step - loss: 0.5645 - acc: 0.8046 - val_loss: 0.7064 - val_acc: 0.7716\n",
            "Epoch 39/50\n",
            "50000/50000 [==============================] - 235s 5ms/step - loss: 0.5650 - acc: 0.8061 - val_loss: 0.6471 - val_acc: 0.7926\n",
            "Epoch 40/50\n",
            "50000/50000 [==============================] - 236s 5ms/step - loss: 0.5562 - acc: 0.8087 - val_loss: 0.6844 - val_acc: 0.7770\n",
            "Epoch 41/50\n",
            "50000/50000 [==============================] - 236s 5ms/step - loss: 0.5584 - acc: 0.8073 - val_loss: 0.6862 - val_acc: 0.7739\n",
            "Epoch 42/50\n",
            "50000/50000 [==============================] - 235s 5ms/step - loss: 0.5538 - acc: 0.8100 - val_loss: 0.6355 - val_acc: 0.7929\n",
            "Epoch 43/50\n",
            "50000/50000 [==============================] - 235s 5ms/step - loss: 0.5482 - acc: 0.8124 - val_loss: 0.6148 - val_acc: 0.7974\n",
            "Epoch 44/50\n",
            "50000/50000 [==============================] - 234s 5ms/step - loss: 0.5526 - acc: 0.8105 - val_loss: 0.7270 - val_acc: 0.7714\n",
            "Epoch 45/50\n",
            "50000/50000 [==============================] - 235s 5ms/step - loss: 0.5455 - acc: 0.8129 - val_loss: 0.6903 - val_acc: 0.7778\n",
            "Epoch 46/50\n",
            "50000/50000 [==============================] - 236s 5ms/step - loss: 0.5431 - acc: 0.8141 - val_loss: 0.6546 - val_acc: 0.7886\n",
            "Epoch 47/50\n",
            "50000/50000 [==============================] - 236s 5ms/step - loss: 0.5388 - acc: 0.8158 - val_loss: 0.7077 - val_acc: 0.7811\n",
            "Epoch 48/50\n",
            "50000/50000 [==============================] - 236s 5ms/step - loss: 0.5381 - acc: 0.8149 - val_loss: 0.7445 - val_acc: 0.7751\n",
            "Epoch 49/50\n",
            "50000/50000 [==============================] - 239s 5ms/step - loss: 0.5424 - acc: 0.8137 - val_loss: 0.7744 - val_acc: 0.7689\n",
            "Epoch 50/50\n",
            "50000/50000 [==============================] - 238s 5ms/step - loss: 0.5350 - acc: 0.8182 - val_loss: 0.6579 - val_acc: 0.7876\n",
            "10000/10000 [==============================] - 12s 1ms/step\n"
          ],
          "name": "stdout"
        },
        {
          "output_type": "execute_result",
          "data": {
            "text/plain": [
              "[0.6579203333854675, 0.7876]"
            ]
          },
          "metadata": {
            "tags": []
          },
          "execution_count": 22
        }
      ]
    }
  ]
}